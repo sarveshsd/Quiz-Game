{
 "cells": [
  {
   "cell_type": "code",
   "execution_count": null,
   "id": "bbc97475",
   "metadata": {},
   "outputs": [],
   "source": []
  },
  {
   "cell_type": "code",
   "execution_count": null,
   "id": "bf964e83",
   "metadata": {},
   "outputs": [
    {
     "name": "stdout",
     "output_type": "stream",
     "text": [
      "Welcome to Anime Quizz Game! \n"
     ]
    }
   ],
   "source": [
    "print(\"Welcome to Anime Quizz Game! \")\n",
    "playing=input(\"Do you want to play? \")\n",
    "if playing.lower() !=\"yes\":\n",
    "    quit()\n",
    "print(\"Okay! Lets play quiz\")\n",
    "score=0\n",
    "\n",
    "answer=input(\"In which anime Series main lead is Ash Ketchum? \")\n",
    "if answer.lower() == \"pokemon\":\n",
    "    print(\"Correct!\")\n",
    "    score = score +1\n",
    "else:\n",
    "    print(\"Incorrect!\")\n",
    "\n",
    "    \n",
    "answer=input(\"What creature is Nine Tails in Naruto? \")\n",
    "if answer.lower() == \"fox\":\n",
    "    print(\"Correct!\")\n",
    "    score = score +1\n",
    "else:\n",
    "    print(\"Incorrect!\")\n",
    "\n",
    "    \n",
    "answer=input(\"What is the name of Luffys father in one piece? \")\n",
    "if answer.lower() == \"monkey d dragon\":\n",
    "    print(\"Correct!\")\n",
    "    score = score +1\n",
    "else:\n",
    "    print(\"Incorrect!\")\n",
    "\n",
    "    \n",
    "answer=input(\"What does Baka mean? \")\n",
    "if answer.lower() == \"idiot\":\n",
    "    print(\"Correct!\")\n",
    "    score = score +1\n",
    "else:\n",
    "    print(\"Incorrect!\")\n",
    "    \n",
    "    \n",
    "answer=input(\"What is Whitebeard Full Name in One piece? \")\n",
    "if answer.lower() == \"edward newgate\":\n",
    "    print(\"Correct!\")\n",
    "    score = score +1\n",
    "else:\n",
    "    print(\"Incorrect!\")\n",
    "\n",
    "print(\"You got \"  +str(score)+ \" question correct!\")\n",
    "print(\"You got \" +str((score/5)*100) +\"%.\")"
   ]
  },
  {
   "cell_type": "code",
   "execution_count": null,
   "id": "59d2e384",
   "metadata": {},
   "outputs": [],
   "source": []
  },
  {
   "cell_type": "code",
   "execution_count": null,
   "id": "14a86de1",
   "metadata": {},
   "outputs": [],
   "source": []
  }
 ],
 "metadata": {
  "kernelspec": {
   "display_name": "Python 3 (ipykernel)",
   "language": "python",
   "name": "python3"
  },
  "language_info": {
   "codemirror_mode": {
    "name": "ipython",
    "version": 3
   },
   "file_extension": ".py",
   "mimetype": "text/x-python",
   "name": "python",
   "nbconvert_exporter": "python",
   "pygments_lexer": "ipython3",
   "version": "3.9.7"
  }
 },
 "nbformat": 4,
 "nbformat_minor": 5
}
